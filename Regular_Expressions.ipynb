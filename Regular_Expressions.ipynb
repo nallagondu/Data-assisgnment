{
  "nbformat": 4,
  "nbformat_minor": 0,
  "metadata": {
    "colab": {
      "private_outputs": true,
      "provenance": [],
      "authorship_tag": "ABX9TyMqpwmLMU2itybDLzvOkDIj",
      "include_colab_link": true
    },
    "kernelspec": {
      "name": "python3",
      "display_name": "Python 3"
    },
    "language_info": {
      "name": "python"
    }
  },
  "cells": [
    {
      "cell_type": "markdown",
      "metadata": {
        "id": "view-in-github",
        "colab_type": "text"
      },
      "source": [
        "<a href=\"https://colab.research.google.com/github/nallagondu/Data-assisgnment/blob/main/Regular_Expressions.ipynb\" target=\"_parent\"><img src=\"https://colab.research.google.com/assets/colab-badge.svg\" alt=\"Open In Colab\"/></a>"
      ]
    },
    {
      "cell_type": "markdown",
      "source": [
        "**Question 1**- Write a Python program to replace all occurrences of a space, comma, or dot with a colon."
      ],
      "metadata": {
        "id": "beUwcbVSCEgw"
      }
    },
    {
      "cell_type": "code",
      "execution_count": null,
      "metadata": {
        "id": "GlSrJoynAdsn"
      },
      "outputs": [],
      "source": [
        "import re"
      ]
    },
    {
      "cell_type": "code",
      "source": [
        "def rep_char(text):\n",
        "    pattern = r'[ ,.]'\n",
        "\n",
        "    replace_test = re.sub(pattern, ':', text)\n",
        "\n",
        "    return replace_test\n",
        "\n",
        "\n"
      ],
      "metadata": {
        "id": "1UoWQTyFCgdc"
      },
      "execution_count": null,
      "outputs": []
    },
    {
      "cell_type": "code",
      "source": [
        "  test_text = 'Python Exercises, PHP exercises.'\n",
        "\n",
        "  output_text = rep_char(test_text)\n",
        "\n",
        "  print(output_text)"
      ],
      "metadata": {
        "id": "7LD4_zsuFjqD"
      },
      "execution_count": null,
      "outputs": []
    },
    {
      "cell_type": "markdown",
      "source": [
        "**Question 2- ** Create a dataframe using the dictionary below and remove everything (commas (,), !, XXXX, ;, etc.) from the columns except words.\n",
        "Dictionary- {'SUMMARY' : ['hello, world!', 'XXXXX test', '123four, five:; six...']}\n"
      ],
      "metadata": {
        "id": "aezCwz3dGOlJ"
      }
    },
    {
      "cell_type": "code",
      "source": [
        "import pandas as pd\n",
        "import re\n",
        "\n",
        "dataDirectory = {'SUMMARY' : ['hello, world!', 'XXXXX test', '123four, five:; six...']}\n"
      ],
      "metadata": {
        "id": "XxM8V4SYGRxy"
      },
      "execution_count": null,
      "outputs": []
    },
    {
      "cell_type": "code",
      "source": [
        "df = pd.DataFrame(dataDirectory)"
      ],
      "metadata": {
        "id": "ZiHE-oWBGuJg"
      },
      "execution_count": null,
      "outputs": []
    },
    {
      "cell_type": "code",
      "source": [
        "\n",
        "df['SUMMARY'] = df['SUMMARY'].apply(lambda x:re.sub(r'[^\\w\\s]|XXXXX','',x))\n",
        "df"
      ],
      "metadata": {
        "id": "G24f4OliG1Xx"
      },
      "execution_count": null,
      "outputs": []
    }
  ]
}